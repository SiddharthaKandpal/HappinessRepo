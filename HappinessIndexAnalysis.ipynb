{
 "cells": [
  {
   "cell_type": "code",
   "execution_count": null,
   "id": "f81f68f0",
   "metadata": {},
   "outputs": [],
   "source": [
    "# Imports and preparing the dataset\n",
    "import numpy as np\n",
    "import pandas as pd\n",
    "import seaborn as sns\n",
    "import matplotlib.pyplot as plt\n",
    "%matplotlib inline\n",
    "import scipy\n",
    "\n",
    "import warnings\n",
    "warnings.filterwarnings(\"ignore\")\n",
    "\n",
    "import folium # for the map\n",
    "\n",
    "# Setting the default style of the plots\n",
    "sns.set_style('whitegrid')\n",
    "sns.set_palette('Set2')\n",
    "\n",
    "# My custom color palette\n",
    "my_palette = [\"#7A92FF\", \"#FF7AEF\", \"#B77AFF\", \"#A9FF7A\", \"#FFB27A\", \"#FF7A7A\",\n",
    "             \"#7AFEFF\", \"#D57AFF\", \"#FFDF7A\", \"#D3FF7A\"]\n",
    "\n",
    "# Importing the 3 datasets\n",
    "data_2015 = pd.read_csv(\"../data/2015.csv\")\n",
    "data_2016 = pd.read_csv(\"../data/2016.csv\")\n",
    "data_2017 = pd.read_csv(\"../data/2017.csv\")\n",
    "\n",
    "# First we need to prepare the data for merging the tables together (to form only 1 table)\n",
    "# Tables have different columns, so first we will keep only the columns we need\n",
    "data_2015 = data_2015[['Country', 'Happiness Rank', 'Happiness Score', 'Economy (GDP per Capita)', 'Family',\n",
    "                       'Health (Life Expectancy)', 'Freedom', 'Generosity', 'Trust (Government Corruption)', \n",
    "                       'Dystopia Residual']]\n",
    "data_2016 = data_2016[['Country', 'Happiness Rank', 'Happiness Score', 'Economy (GDP per Capita)', 'Family',\n",
    "                       'Health (Life Expectancy)', 'Freedom', 'Generosity', 'Trust (Government Corruption)', \n",
    "                       'Dystopia Residual']]\n",
    "data_2017 = data_2017[['Country', 'Happiness.Rank', 'Happiness.Score', 'Economy..GDP.per.Capita.', 'Family',\n",
    "                       'Health..Life.Expectancy.', 'Freedom', 'Generosity', 'Trust..Government.Corruption.', \n",
    "                       'Dystopia.Residual']]\n",
    "\n",
    "# Tables do not have the same column names, so we need to fix that\n",
    "new_names = ['Country', 'Happiness Rank', 'Happiness Score', 'Economy (GDP per Capita)', 'Family',\n",
    "                       'Health (Life Expectancy)', 'Freedom', 'Generosity', 'Trust (Government Corruption)', \n",
    "                       'Dystopia Residual']\n",
    "\n",
    "data_2015.columns = new_names\n",
    "data_2016.columns = new_names\n",
    "data_2017.columns = new_names\n",
    "\n",
    "# Add a new column containing the year of the survey\n",
    "data_2015['Year'] = 2015\n",
    "data_2016['Year'] = 2016\n",
    "data_2017['Year'] = 2017\n",
    "\n",
    "# Merge the data together\n",
    "data = pd.concat([data_2015, data_2016, data_2017], axis=0)\n",
    "data.head(3)\n"
   ]
  },
  {
   "cell_type": "code",
   "execution_count": null,
   "id": "7869d8a4",
   "metadata": {},
   "outputs": [],
   "source": []
  },
  {
   "cell_type": "code",
   "execution_count": null,
   "id": "cc308423",
   "metadata": {},
   "outputs": [],
   "source": [
    "# New data\n",
    "data_2018 = pd.read_csv(\"../data/2018.csv\")\n",
    "data_2019 = pd.read_csv(\"../data/2019.csv\")\n",
    "\n",
    "# Concatenate data\n",
    "data_2018['Year'] = 2018\n",
    "data_2019['Year'] = 2019\n",
    "\n",
    "new_data = pd.concat([data_2018, data_2019], axis=0)\n",
    "\n",
    "# Switching overall rank column with country/ region\n",
    "columns_titles = ['Country or region', 'Overall rank', 'Score', 'GDP per capita',\n",
    "       'Social support', 'Healthy life expectancy', 'Freedom to make life choices', 'Generosity',\n",
    "       'Perceptions of corruption', 'Year']\n",
    "new_data = new_data.reindex(columns=columns_titles)\n",
    "\n",
    "# Renaming old data columns:\n",
    "old_data = data[['Country', 'Happiness Rank', 'Happiness Score','Economy (GDP per Capita)', 'Family',  'Health (Life Expectancy)', 'Freedom', 'Generosity', 'Trust (Government Corruption)', 'Year']]\n",
    "old_data.columns = ['Country or region', 'Overall rank', 'Score', 'GDP per capita',\n",
    "       'Social support', 'Healthy life expectancy', 'Freedom to make life choices', 'Generosity',\n",
    "       'Perceptions of corruption', 'Year']\n",
    "\n",
    "# Finally, concatenating all data\n",
    "data = pd.concat([old_data, new_data], axis=0)\n",
    "\n",
    "data.head(3)"
   ]
  },
  {
   "cell_type": "code",
   "execution_count": null,
   "id": "6e78cc81",
   "metadata": {},
   "outputs": [],
   "source": []
  },
  {
   "cell_type": "code",
   "execution_count": null,
   "id": "9c5fdd05",
   "metadata": {},
   "outputs": [],
   "source": [
    "data[data['Perceptions of corruption'].isna()]"
   ]
  },
  {
   "cell_type": "code",
   "execution_count": null,
   "id": "6e1d4a33",
   "metadata": {},
   "outputs": [],
   "source": [
    "data.dropna(axis = 0, inplace = True)"
   ]
  },
  {
   "cell_type": "code",
   "execution_count": 1,
   "id": "4561de73",
   "metadata": {},
   "outputs": [
    {
     "ename": "SyntaxError",
     "evalue": "invalid syntax (1451096611.py, line 1)",
     "output_type": "error",
     "traceback": [
      "\u001b[1;36m  Cell \u001b[1;32mIn[1], line 1\u001b[1;36m\u001b[0m\n\u001b[1;33m    THe Number Game\u001b[0m\n\u001b[1;37m        ^\u001b[0m\n\u001b[1;31mSyntaxError\u001b[0m\u001b[1;31m:\u001b[0m invalid syntax\n"
     ]
    }
   ],
   "source": []
  },
  {
   "cell_type": "code",
   "execution_count": null,
   "id": "f79e9883",
   "metadata": {},
   "outputs": [],
   "source": [
    "data.shape"
   ]
  },
  {
   "cell_type": "code",
   "execution_count": null,
   "id": "8739bd30",
   "metadata": {},
   "outputs": [],
   "source": [
    "data.groupby(by='Year')['Score'].describe()"
   ]
  },
  {
   "cell_type": "code",
   "execution_count": null,
   "id": "056a30cc",
   "metadata": {},
   "outputs": [],
   "source": [
    "# First we group the data by year and average the factors\n",
    "grouped = data.groupby(by = 'Year')[['Score', 'GDP per capita',\n",
    "       'Social support', 'Healthy life expectancy',\n",
    "       'Freedom to make life choices', 'Generosity',\n",
    "       'Perceptions of corruption']].mean().reset_index()\n",
    "\n",
    "# Now we reconstruct the df by using melt() function\n",
    "grouped = pd.melt(frame = grouped, id_vars='Year', value_vars=['Score', 'GDP per capita',\n",
    "       'Social support', 'Healthy life expectancy',\n",
    "       'Freedom to make life choices', 'Generosity',\n",
    "       'Perceptions of corruption'], var_name='Factor', value_name='Avg_value')\n",
    "\n",
    "grouped.head()"
   ]
  },
  {
   "cell_type": "code",
   "execution_count": null,
   "id": "e0fbdc90",
   "metadata": {},
   "outputs": [],
   "source": [
    "#Difference in Factors - Then and Now (barchart)\n",
    "plt.figure(figsize = (16, 9))\n",
    "\n",
    "ax = sns.barplot(x = grouped[grouped['Factor'] != 'Score']['Factor'], y = grouped['Avg_value'], \n",
    "            palette = my_palette[1:], hue = grouped['Year'])\n",
    "\n",
    "plt.title(\"Difference in Factors - Then and Now - \", fontsize = 25)\n",
    "plt.xlabel(\"Factor\", fontsize = 20)\n",
    "plt.ylabel(\"Average Score\", fontsize = 20)\n",
    "plt.xticks(fontsize = 15)\n",
    "plt.yticks(fontsize = 15)\n",
    "plt.legend(fontsize = 15)\n",
    "\n",
    "ax.set_xticklabels(['Money','Family', 'Health', 'Freedom', 'Generosity', 'Trust']);\n"
   ]
  },
  {
   "cell_type": "code",
   "execution_count": null,
   "id": "7662adc2",
   "metadata": {},
   "outputs": [],
   "source": [
    "# Average top 5 most happy countries\n",
    "country_score_avg = data[data['Year']==2019].groupby(by = ['Country or region'])['Score'].mean().reset_index()\n",
    "table = country_score_avg.sort_values(by = 'Score', ascending = False).head(10)\n",
    "\n",
    "table"
   ]
  },
  {
   "cell_type": "code",
   "execution_count": null,
   "id": "11a80e01",
   "metadata": {},
   "outputs": [],
   "source": [
    "# Top 10 Happiest Countries in 2019 chart\n",
    "plt.figure(figsize = (16, 9))\n",
    "sns.barplot(y = table['Country or region'], x = table['Score'], palette = my_palette)\n",
    "\n",
    "plt.title(\"Top 10 Happiest Countries in 2019\", fontsize = 25)\n",
    "plt.xlabel(\"Happiness Score\", fontsize = 20)\n",
    "plt.ylabel(\"Country\", fontsize = 20)\n",
    "plt.xticks(fontsize = 15)\n",
    "plt.yticks(fontsize = 15);"
   ]
  },
  {
   "cell_type": "code",
   "execution_count": null,
   "id": "c393f838",
   "metadata": {},
   "outputs": [],
   "source": [
    "#Top 10 Least Happy Countries in 2019 chart\n",
    "plt.figure(figsize = (16, 9))\n",
    "sns.barplot(y = table2['Country or region'], x = table2['Score'], palette = my_palette)\n",
    "\n",
    "plt.title(\"Top 10 Least Happy Countries in 2019\", fontsize = 25)\n",
    "plt.xlabel(\"Happiness Score\", fontsize = 20)\n",
    "plt.ylabel(\"Country\", fontsize = 20)\n",
    "plt.xticks(fontsize = 15)\n",
    "plt.yticks(fontsize = 15);"
   ]
  },
  {
   "cell_type": "code",
   "execution_count": null,
   "id": "6c4b5ba5",
   "metadata": {},
   "outputs": [],
   "source": [
    "# Checking the distribution for Happiness Score in 2019\n",
    "plt.figure(figsize = (16, 9))\n",
    "\n",
    "sns.distplot(a = country_score_avg['Score'], bins = 20, kde = True, color = \"#A9FF7A\")\n",
    "plt.xlabel('Happiness Score', fontsize = 20)\n",
    "plt.title('Distribution of Average Happiness Score - 2019 -', fontsize = 25)\n",
    "plt.xticks(fontsize = 15)\n",
    "plt.yticks(fontsize = 15)\n",
    "plt.xlim((1.5, 8.9));"
   ]
  },
  {
   "cell_type": "code",
   "execution_count": null,
   "id": "bc495428",
   "metadata": {},
   "outputs": [],
   "source": [
    "## Creating the grouped table to see the distribution of factors\n",
    "country_factors_avg = data[data['Year'] == 2019].groupby(by = ['Country or region'])[['GDP per capita',\n",
    "       'Social support', 'Healthy life expectancy', 'Freedom to make life choices', 'Generosity',\n",
    "       'Perceptions of corruption']].mean().reset_index()\n",
    "\n",
    "plt.figure(figsize = (16, 9))\n",
    "\n",
    "sns.kdeplot(data = country_factors_avg['GDP per capita'], color = \"#B77AFF\", shade = True)\n",
    "sns.kdeplot(data = country_factors_avg['Social support'], color = \"#FD7AFF\", shade = True)\n",
    "sns.kdeplot(data = country_factors_avg['Healthy life expectancy'], color = \"#FFB27A\", shade = True)\n",
    "sns.kdeplot(data = country_factors_avg['Freedom to make life choices'], color = \"#A9FF7A\", shade = True)\n",
    "sns.kdeplot(data = country_factors_avg['Generosity'], color = \"#7AFFD4\", shade = True)\n",
    "sns.kdeplot(data = country_factors_avg['Perceptions of corruption'], color = \"#FF7A7A\", shade = True)\n",
    "\n",
    "plt.xlabel('Factors Score', fontsize = 20)\n",
    "plt.title('Distribution of Average Factors Score - 2019 -', fontsize = 25)\n",
    "plt.xticks(fontsize = 15)\n",
    "plt.yticks(fontsize = 15)\n",
    "plt.xlim((-0.5, 2.3))\n",
    "plt.legend(fontsize = 15);\n"
   ]
  }
 ],
 "metadata": {
  "kernelspec": {
   "display_name": "Python 3 (ipykernel)",
   "language": "python",
   "name": "python3"
  },
  "language_info": {
   "codemirror_mode": {
    "name": "ipython",
    "version": 3
   },
   "file_extension": ".py",
   "mimetype": "text/x-python",
   "name": "python",
   "nbconvert_exporter": "python",
   "pygments_lexer": "ipython3",
   "version": "3.10.8"
  }
 },
 "nbformat": 4,
 "nbformat_minor": 5
}
